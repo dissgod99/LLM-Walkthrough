{
 "cells": [
  {
   "cell_type": "code",
   "execution_count": 16,
   "metadata": {},
   "outputs": [],
   "source": [
    "from decouple import config\n",
    "from langchain import OpenAI\n",
    "from langchain import PromptTemplate\n",
    "import os"
   ]
  },
  {
   "cell_type": "code",
   "execution_count": 9,
   "metadata": {},
   "outputs": [],
   "source": [
    "openai_key = config(\"OPENAI_API_KEY\")\n",
    "\n",
    "llm = OpenAI(temperature=0.1,\n",
    "             openai_api_key=openai_key)"
   ]
  },
  {
   "cell_type": "markdown",
   "metadata": {},
   "source": [
    "### Summarize a simple text"
   ]
  },
  {
   "cell_type": "code",
   "execution_count": 10,
   "metadata": {},
   "outputs": [],
   "source": [
    "# Summarize a simple text\n",
    "prompt = \"\"\"\n",
    "Summarize the following text in a way that a 10 year old chikd can understand it\n",
    "\n",
    "\n",
    "TEXT:\n",
    "Ethics or moral philosophy is a branch of philosophy that \"involves systematizing, defending,\\\n",
    "      and recommending concepts of right and wrong behavior\". The field of ethics, along with aesthetics, \\\n",
    "      concerns matters of value; these fields comprise the branch of philosophy called axiology.\n",
    "\n",
    "Ethics seeks to resolve questions of human morality by defining concepts such as good and evil, right and wrong,\\\n",
    "      virtue and vice, justice and crime. As a field of intellectual inquiry, moral philosophy is related \\\n",
    "        to the fields of moral psychology, descriptive ethics, and value theory.\n",
    "\n",
    "\"\"\""
   ]
  },
  {
   "cell_type": "code",
   "execution_count": 14,
   "metadata": {},
   "outputs": [
    {
     "name": "stdout",
     "output_type": "stream",
     "text": [
      "Number of tokens is 142\n"
     ]
    }
   ],
   "source": [
    "nb_tokens = llm.get_num_tokens(prompt)\n",
    "print(f\"Number of tokens is {nb_tokens}\")"
   ]
  },
  {
   "cell_type": "code",
   "execution_count": 15,
   "metadata": {},
   "outputs": [
    {
     "name": "stdout",
     "output_type": "stream",
     "text": [
      "\n",
      "Ethics is a branch of philosophy that helps us figure out what is right and wrong. It looks at things like good and bad, what is fair and unfair, and what is just and unjust. It helps us figure out how to make the right choices.\n"
     ]
    }
   ],
   "source": [
    "output = llm(prompt=prompt)\n",
    "print(output)"
   ]
  },
  {
   "cell_type": "markdown",
   "metadata": {},
   "source": [
    "### Summarize a couple of paragraphs"
   ]
  },
  {
   "cell_type": "code",
   "execution_count": 17,
   "metadata": {},
   "outputs": [],
   "source": [
    "the_weeknd_txt = [\"theweeknd-1.txt\", \"theweeknd-2.txt\"]\n",
    "texts = []\n",
    "\n",
    "for text in the_weeknd_txt:\n",
    "    with open(text, \"r\") as file:\n",
    "        texts.append(file.read())"
   ]
  },
  {
   "cell_type": "code",
   "execution_count": 27,
   "metadata": {},
   "outputs": [
    {
     "name": "stdout",
     "output_type": "stream",
     "text": [
      "TEXT 0:\n",
      " Abel Makkonen Tesfaye (born February 16, 1990), known professionally as the Weeknd, is a Canadian singer, songwriter, and record producer. He is noted for his unconventional music production, artistic reinventions, and his signature use of the falsetto register. His accolades include 4 Grammy Awards, 20 Billboard Music Awards, 22 Juno Awards, 6 American Music Awards, 2 MTV Video Music Awards, a Latin Grammy Award, and nominations for an Academy Award and a Primetime Emmy Award.\n",
      "\n",
      "Born and raised in Toronto, Tesfaye began his career in 2009 by anonymously releasing music on YouTube. Two years later, he co-founded the XO record label and released the mixtapes House of Balloons, Thursday and Echoes of Silence, which gained recognition for his style of contemporary and alternative R&B and the mystique surrounding his identity. In 2012, he signed with Republic Records and rereleased the mixtapes in the compilation album Trilogy. He explored dark wave in his debut studio album Kiss Land (2013), which debuted at number two on the US Billboard 200. After its release, Tesfaye began contributing to film soundtracks, with his acclaimed single \"Earned It\" from Fifty Shades of Grey (2015) winning the Grammy Award for Best R&B Performance, while also being nominated for the Academy Award for Best Original Song.\n",
      "\n",
      "\n",
      "TEXT 1:\n",
      " Tesfaye earned critical and commercial success with his pop-leaning second album Beauty Behind the Madness (2015), which reached number one in the US, contained the US Billboard Hot 100 chart-topping singles \"Can't Feel My Face\" and \"The Hills\", and won the Grammy Award for Best Urban Contemporary Album and was nominated for Album of the Year. His trap-infused third album Starboy (2016) saw similar commercial success and included the US number-one single of the same name and \"Die for You\", and won the Grammy Award for Best Urban Contemporary Album. Tesfaye explored new wave and dream pop with his critically-acclaimed fourth studio album After Hours (2020), which featured the chart record-setting single \"Blinding Lights\" and the US number-one singles \"Heartless\" and \"Save Your Tears\". Dance-pop inspired his fifth album Dawn FM (2022), which included the US top-ten single \"Take My Breath\". In 2023, he co-created and starred in the drama series The Idol, which was critically panned.\n",
      "\n",
      "Among the world's best-selling music artists with over 75 million records sold, Tesfaye holds several streaming and Billboard chart records. He is the first Canadian artist to earn four diamond-certified singles from the Recording Industry Association of America (RIAA), as well as the first artist to simultaneously hold the top three spots on the Hot R&B/Hip-Hop Songs chart. \"Blinding Lights\" became the most-streamed song in Spotify history and the best-performing song in the Billboard Hot 100's history, as well as the longest charting song by a solo artist on the Billboard Hot 100. Tesfaye was listed by Time as one of the world's most influential people in 2020, and was dubbed the \"world's most popular artist\" by Guinness World Records in 2023. An advocate for racial equality and food security, he was appointed a World Food Programme Goodwill Ambassador in 2021.\n",
      "\n",
      "\n"
     ]
    }
   ],
   "source": [
    "for idx, text in enumerate(texts):\n",
    "    print(f\"TEXT {idx}:\\n {text}\\n\\n\")"
   ]
  },
  {
   "cell_type": "code",
   "execution_count": 28,
   "metadata": {},
   "outputs": [],
   "source": [
    "template = \"\"\"\n",
    "Write a 2-3 sentence summary of the following text:\n",
    "\n",
    "{text}\n",
    "\n",
    "\"\"\"\n",
    "\n",
    "\n",
    "prompt = PromptTemplate(\n",
    "    input_variables=[\"text\"],\n",
    "    template=template\n",
    ")"
   ]
  },
  {
   "cell_type": "code",
   "execution_count": 29,
   "metadata": {},
   "outputs": [
    {
     "name": "stdout",
     "output_type": "stream",
     "text": [
      "Summary + TEXT length == 295\n",
      "Summary:\n",
      "The Weeknd is a Canadian singer, songwriter, and record producer who has won numerous awards, including 4 Grammys, 20 Billboard Music Awards, and 6 American Music Awards. He began his career in 2009 by anonymously releasing music on YouTube and is known for his unconventional music production and signature use of the falsetto register.\n",
      "\n",
      "\n",
      "Summary + TEXT length == 424\n",
      "Summary:\n",
      "The Canadian singer-songwriter The Weeknd has earned critical and commercial success with his five studio albums, selling over 75 million records and setting several streaming and Billboard chart records. He has won two Grammy Awards and was listed by Time as one of the world's most influential people in 2020. He was also appointed a World Food Programme Goodwill Ambassador in 2021.\n",
      "\n",
      "\n"
     ]
    }
   ],
   "source": [
    "for text in texts:\n",
    "    summary_prompt = prompt.format(text=text)\n",
    "    print(f\"Summary + TEXT length == {llm.get_num_tokens(summary_prompt)}\")\n",
    "\n",
    "    summary = llm(summary_prompt)\n",
    "\n",
    "    print(f\"Summary:\\n{summary.strip()}\")\n",
    "    print(\"\\n\")"
   ]
  },
  {
   "cell_type": "code",
   "execution_count": null,
   "metadata": {},
   "outputs": [],
   "source": []
  }
 ],
 "metadata": {
  "kernelspec": {
   "display_name": "langchain_env",
   "language": "python",
   "name": "python3"
  },
  "language_info": {
   "codemirror_mode": {
    "name": "ipython",
    "version": 3
   },
   "file_extension": ".py",
   "mimetype": "text/x-python",
   "name": "python",
   "nbconvert_exporter": "python",
   "pygments_lexer": "ipython3",
   "version": "3.10.12"
  }
 },
 "nbformat": 4,
 "nbformat_minor": 2
}
